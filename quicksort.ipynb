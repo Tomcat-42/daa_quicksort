{
  "cells": [
    {
      "cell_type": "markdown",
      "metadata": {
        "id": "view-in-github",
        "colab_type": "text"
      },
      "source": [
        "<a href=\"https://colab.research.google.com/github/Tomcat-42/daa_quicksort/blob/main/quicksort.ipynb\" target=\"_parent\"><img src=\"https://colab.research.google.com/assets/colab-badge.svg\" alt=\"Open In Colab\"/></a>"
      ]
    },
    {
      "cell_type": "markdown",
      "source": [
        "# Quicksort"
      ],
      "metadata": {
        "id": "MxW2D26b3lKK"
      }
    },
    {
      "cell_type": "markdown",
      "source": [
        "## Bibliotecas Necessarias"
      ],
      "metadata": {
        "id": "gHf0Bgo13ptZ"
      }
    },
    {
      "cell_type": "code",
      "source": [
        "!pip install daa"
      ],
      "metadata": {
        "id": "76AhGnD33vEr",
        "outputId": "3d9a038f-673f-4fb2-9526-7da74e185cba",
        "colab": {
          "base_uri": "https://localhost:8080/"
        }
      },
      "execution_count": 5,
      "outputs": [
        {
          "output_type": "stream",
          "name": "stdout",
          "text": [
            "Looking in indexes: https://pypi.org/simple, https://us-python.pkg.dev/colab-wheels/public/simple/\n",
            "Collecting daa==1.4.2\n",
            "  Downloading daa-1.4.2-cp37-cp37m-manylinux_2_17_x86_64.manylinux2014_x86_64.whl (177 kB)\n",
            "\u001b[K     |████████████████████████████████| 177 kB 5.2 MB/s \n",
            "\u001b[?25hInstalling collected packages: daa\n",
            "Successfully installed daa-1.4.2\n"
          ]
        }
      ]
    },
    {
      "cell_type": "code",
      "source": [
        "from daa.sorting import (quicksort_int as quicksort, pivot)\n",
        "\n",
        "p = pivot.MIDDLE\n",
        "v = [i for i in range(2000000)]\n",
        "t = quicksort(p).sort(v)\n",
        "\n",
        "t"
      ],
      "metadata": {
        "id": "8hblNkbU3x1v",
        "outputId": "9d4496c9-c4f3-4f29-9681-ee819513fccc",
        "colab": {
          "base_uri": "https://localhost:8080/"
        }
      },
      "execution_count": 17,
      "outputs": [
        {
          "output_type": "execute_result",
          "data": {
            "text/plain": [
              "datetime.timedelta(microseconds=60767)"
            ]
          },
          "metadata": {},
          "execution_count": 17
        }
      ]
    }
  ],
  "metadata": {
    "colab": {
      "name": "Snippets: Importing libraries",
      "provenance": [],
      "include_colab_link": true
    },
    "kernelspec": {
      "display_name": "Python 3",
      "name": "python3"
    }
  },
  "nbformat": 4,
  "nbformat_minor": 0
}