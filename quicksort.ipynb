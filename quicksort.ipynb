{
  "cells": [
    {
      "cell_type": "markdown",
      "metadata": {
        "id": "view-in-github",
        "colab_type": "text"
      },
      "source": [
        "<a href=\"https://colab.research.google.com/github/Tomcat-42/daa_quicksort/blob/main/quicksort.ipynb\" target=\"_parent\"><img src=\"https://colab.research.google.com/assets/colab-badge.svg\" alt=\"Open In Colab\"/></a>"
      ]
    },
    {
      "cell_type": "markdown",
      "source": [
        "# Quicksort"
      ],
      "metadata": {
        "id": "MxW2D26b3lKK"
      }
    },
    {
      "cell_type": "markdown",
      "source": [
        "## Bibliotecas Necessarias"
      ],
      "metadata": {
        "id": "gHf0Bgo13ptZ"
      }
    },
    {
      "cell_type": "code",
      "source": [
        "!pip install daa"
      ],
      "metadata": {
        "colab": {
          "base_uri": "https://localhost:8080/"
        },
        "id": "76AhGnD33vEr",
        "outputId": "8723a258-e102-4087-c04f-b126a9d84b48"
      },
      "execution_count": 62,
      "outputs": [
        {
          "output_type": "stream",
          "name": "stdout",
          "text": [
            "Looking in indexes: https://pypi.org/simple, https://us-python.pkg.dev/colab-wheels/public/simple/\n",
            "Collecting daa\n",
            "  Downloading daa-1.4.2-cp37-cp37m-manylinux_2_17_x86_64.manylinux2014_x86_64.whl (177 kB)\n",
            "\u001b[K     |████████████████████████████████| 177 kB 5.1 MB/s \n",
            "\u001b[?25hInstalling collected packages: daa\n",
            "Successfully installed daa-1.4.2\n"
          ]
        }
      ]
    },
    {
      "cell_type": "code",
      "source": [
        "from google.colab import drive\n",
        "drive.mount('/content/drive')"
      ],
      "metadata": {
        "id": "WLU343lnuAe0",
        "outputId": "a8380d8a-f7cc-49ad-ae12-e6fbe4f8d820",
        "colab": {
          "base_uri": "https://localhost:8080/"
        }
      },
      "execution_count": 1,
      "outputs": [
        {
          "output_type": "stream",
          "name": "stdout",
          "text": [
            "Mounted at /content/drive\n"
          ]
        }
      ]
    },
    {
      "cell_type": "code",
      "source": [
        "from daa.sorting import (quicksort_int as quicksort, pivot)"
      ],
      "metadata": {
        "id": "8hblNkbU3x1v"
      },
      "execution_count": 63,
      "outputs": []
    },
    {
      "cell_type": "code",
      "source": [
        "def read_from_file(filename: str):\n",
        "    array = []\n",
        "    with open(filename) as f:\n",
        "        for line in f:\n",
        "            numbers = line.split()\n",
        "            array += list(map(int,numbers))\n",
        "\n",
        "    return array\n"
      ],
      "metadata": {
        "id": "dH1IqllftK-1"
      },
      "execution_count": 43,
      "outputs": []
    },
    {
      "cell_type": "code",
      "source": [
        "import os\n",
        "def pathto_dict(path):\n",
        "    for root, dirs, files in os.walk(path):\n",
        "        tree = {\"name\": root, \"type\":\"folder\", \"children\":[]}\n",
        "        tree[\"children\"].extend([pathto_dict(os.path.join(root, d)) for d in dirs])\n",
        "        tree[\"children\"].extend([{\"name\":os.path.join(root, f), \"type\":\"file\"} for f in files])\n",
        "        return tree"
      ],
      "metadata": {
        "id": "hLrSofkOurn8"
      },
      "execution_count": 15,
      "outputs": []
    },
    {
      "cell_type": "code",
      "source": [
        "dir_tree = pathto_dict(\"./drive/MyDrive/paa/data\")\n",
        "to_sort = []\n",
        "\n",
        "for i in dir_tree[\"children\"]:\n",
        "    for j in i[\"children\"]:\n",
        "        a = read_from_file(j[\"name\"])\n",
        "        to_sort.append({\"name\": j[\"name\"], \"value\": a})"
      ],
      "metadata": {
        "id": "B7STLu9qvM04"
      },
      "execution_count": 57,
      "outputs": []
    },
    {
      "cell_type": "code",
      "source": [
        "results = []\n",
        "for case in to_sort:\n",
        "    name = case[\"name\"]\n",
        "    val = case[\"value\"]\n",
        "    print(name)\n",
        "    tempo_first = quicksort(pivot.FIRST).sort(val)\n",
        "    print(f\"first = {tempo_first}\")\n",
        "    tempo_middle = quicksort(pivot.MIDDLE).sort(val)\n",
        "    print(f\"first = {tempo_middle}\")\n",
        "    tempo_median = quicksort(pivot.MEDIAN_OF_THREE).sort(val)\n",
        "    print(f\"first = {tempo_median}\")\n",
        "    \n",
        "    result = {\"name\": name, \"tempo_first\": tempo_first, \"tempo_middle\": tempo_middle, \"tempo_median\": tempo_median}\n",
        "    results += result\n",
        "\n",
        "results"
      ],
      "metadata": {
        "id": "xtczWIXBz2Ny"
      },
      "execution_count": null,
      "outputs": []
    }
  ],
  "metadata": {
    "colab": {
      "name": "Snippets: Importing libraries",
      "provenance": [],
      "include_colab_link": true
    },
    "kernelspec": {
      "display_name": "Python 3",
      "name": "python3"
    }
  },
  "nbformat": 4,
  "nbformat_minor": 0
}