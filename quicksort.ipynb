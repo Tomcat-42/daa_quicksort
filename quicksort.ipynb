{
 "cells": [
  {
   "cell_type": "markdown",
   "metadata": {
    "colab_type": "text",
    "id": "view-in-github"
   },
   "source": [
    "<a href=\"https://colab.research.google.com/github/Tomcat-42/daa_quicksort/blob/main/quicksort.ipynb\" target=\"_parent\"><img src=\"https://colab.research.google.com/assets/colab-badge.svg\" alt=\"Open In Colab\"/></a>"
   ]
  },
  {
   "cell_type": "markdown",
   "metadata": {
    "id": "MxW2D26b3lKK"
   },
   "source": [
    "# Quicksort"
   ]
  },
  {
   "cell_type": "markdown",
   "metadata": {
    "id": "gHf0Bgo13ptZ"
   },
   "source": [
    "## Bibliotecas Necessarias"
   ]
  },
  {
   "cell_type": "code",
   "execution_count": 1,
   "metadata": {
    "colab": {
     "base_uri": "https://localhost:8080/"
    },
    "id": "76AhGnD33vEr",
    "outputId": "8b741c9a-4fc9-4cf6-eeff-27f1afe5c58d"
   },
   "outputs": [
    {
     "name": "stdout",
     "output_type": "stream",
     "text": [
      "Looking in indexes: https://pypi.org/simple, https://us-python.pkg.dev/colab-wheels/public/simple/\n",
      "Requirement already satisfied: daa in /usr/local/lib/python3.7/dist-packages (1.4.2)\n"
     ]
    }
   ],
   "source": [
    "!pip install daa"
   ]
  },
  {
   "cell_type": "code",
   "execution_count": 2,
   "metadata": {
    "colab": {
     "base_uri": "https://localhost:8080/"
    },
    "id": "WLU343lnuAe0",
    "outputId": "aa8b2721-bc07-437c-b780-8448e4306d8b"
   },
   "outputs": [
    {
     "name": "stdout",
     "output_type": "stream",
     "text": [
      "Drive already mounted at /content/drive; to attempt to forcibly remount, call drive.mount(\"/content/drive\", force_remount=True).\n"
     ]
    }
   ],
   "source": [
    "from google.colab import drive\n",
    "drive.mount('/content/drive')"
   ]
  },
  {
   "cell_type": "code",
   "execution_count": 3,
   "metadata": {
    "id": "8hblNkbU3x1v"
   },
   "outputs": [],
   "source": [
    "from daa.sorting import (quicksort_int as quicksort, pivot)"
   ]
  },
  {
   "cell_type": "code",
   "execution_count": 4,
   "metadata": {
    "id": "dH1IqllftK-1"
   },
   "outputs": [],
   "source": [
    "def read_from_file(filename: str):\n",
    "    array = []\n",
    "    with open(filename) as f:\n",
    "        for line in f:\n",
    "            numbers = line.split()\n",
    "            array += list(map(int,numbers))\n",
    "\n",
    "    return array\n"
   ]
  },
  {
   "cell_type": "code",
   "execution_count": 5,
   "metadata": {
    "id": "hLrSofkOurn8"
   },
   "outputs": [],
   "source": [
    "import os\n",
    "def pathto_dict(path):\n",
    "    for root, dirs, files in os.walk(path):\n",
    "        tree = {\"name\": root, \"type\":\"folder\", \"children\":[]}\n",
    "        tree[\"children\"].extend([pathto_dict(os.path.join(root, d)) for d in dirs])\n",
    "        tree[\"children\"].extend([{\"name\":os.path.join(root, f), \"type\":\"file\"} for f in files])\n",
    "        return tree"
   ]
  },
  {
   "cell_type": "code",
   "execution_count": 6,
   "metadata": {
    "id": "B7STLu9qvM04"
   },
   "outputs": [],
   "source": [
    "dir_tree = pathto_dict(\"./drive/MyDrive/paa/data\")\n",
    "to_sort = []\n",
    "\n",
    "for i in dir_tree[\"children\"]:\n",
    "    for j in i[\"children\"]:\n",
    "        a = read_from_file(j[\"name\"])\n",
    "        to_sort.append({\"name\": j[\"name\"], \"value\": a})"
   ]
  },
  {
   "cell_type": "code",
   "execution_count": null,
   "metadata": {
    "colab": {
     "base_uri": "https://localhost:8080/"
    },
    "id": "xtczWIXBz2Ny",
    "outputId": "85456ded-0a04-468d-ca0e-f6f0c3a47ec1"
   },
   "outputs": [
    {
     "name": "stdout",
     "output_type": "stream",
     "text": [
      "./drive/MyDrive/paa/data/aleatorios/a500.txt\n",
      "first = 0:00:00.000051\n",
      "first = 0:00:00.000056\n",
      "first = 0:00:00.000092\n",
      "./drive/MyDrive/paa/data/aleatorios/a2000.txt\n",
      "first = 0:00:00.000240\n",
      "first = 0:00:00.000235\n",
      "first = 0:00:00.000379\n",
      "./drive/MyDrive/paa/data/aleatorios/a15000.txt\n",
      "first = 0:00:00.001565\n",
      "first = 0:00:00.001458\n",
      "first = 0:00:00.002384\n",
      "./drive/MyDrive/paa/data/aleatorios/a75000.txt\n",
      "first = 0:00:00.008147\n",
      "first = 0:00:00.008224\n",
      "first = 0:00:00.012316\n",
      "./drive/MyDrive/paa/data/aleatorios/a100000.txt\n",
      "first = 0:00:00.010803\n",
      "first = 0:00:00.010288\n",
      "first = 0:00:00.016550\n",
      "./drive/MyDrive/paa/data/aleatorios/a100.txt\n",
      "first = 0:00:00.000007\n",
      "first = 0:00:00.000008\n",
      "first = 0:00:00.000021\n",
      "./drive/MyDrive/paa/data/aleatorios/a1000.txt\n",
      "first = 0:00:00.000089\n",
      "first = 0:00:00.000092\n",
      "first = 0:00:00.000151\n",
      "./drive/MyDrive/paa/data/aleatorios/a50000.txt\n",
      "first = 0:00:00.005324\n",
      "first = 0:00:00.005082\n",
      "first = 0:00:00.008174\n",
      "./drive/MyDrive/paa/data/aleatorios/a200.txt\n",
      "first = 0:00:00.000015\n",
      "first = 0:00:00.000019\n",
      "first = 0:00:00.000038\n",
      "./drive/MyDrive/paa/data/aleatorios/a10000.txt\n",
      "first = 0:00:00.001013\n",
      "first = 0:00:00.000951\n",
      "first = 0:00:00.001535\n",
      "./drive/MyDrive/paa/data/aleatorios/a7500.txt\n",
      "first = 0:00:00.000732\n",
      "first = 0:00:00.000721\n",
      "first = 0:00:00.001149\n",
      "./drive/MyDrive/paa/data/aleatorios/a5000.txt\n",
      "first = 0:00:00.000479\n",
      "first = 0:00:00.000469\n",
      "first = 0:00:00.000775\n",
      "./drive/MyDrive/paa/data/aleatorios/a30000.txt\n",
      "first = 0:00:00.003093\n",
      "first = 0:00:00.002952\n",
      "first = 0:00:00.004803\n",
      "./drive/MyDrive/paa/data/aleatorios/a1500000.txt\n",
      "first = 0:00:00.217160\n",
      "first = 0:00:00.211287\n",
      "first = 0:00:00.313972\n",
      "./drive/MyDrive/paa/data/aleatorios/a500000.txt\n",
      "first = 0:00:00.062553\n",
      "first = 0:00:00.056898\n",
      "first = 0:00:00.091874\n",
      "./drive/MyDrive/paa/data/aleatorios/a750000.txt\n",
      "first = 0:00:00.098827\n",
      "first = 0:00:00.093044\n",
      "first = 0:00:00.142847\n",
      "./drive/MyDrive/paa/data/aleatorios/a200000.txt\n",
      "first = 0:00:00.023054\n",
      "first = 0:00:00.021419\n",
      "first = 0:00:00.040241\n",
      "./drive/MyDrive/paa/data/aleatorios/a1000000.txt\n",
      "first = 0:00:00.136180\n",
      "first = 0:00:00.128012\n",
      "first = 0:00:00.191643\n",
      "./drive/MyDrive/paa/data/aleatorios/a2000000.txt\n",
      "first = 0:00:00.312832\n",
      "first = 0:00:00.299474\n",
      "first = 0:00:00.419617\n",
      "./drive/MyDrive/paa/data/aleatorios/a1250000.txt\n",
      "first = 0:00:00.204913\n",
      "first = 0:00:00.198687\n",
      "first = 0:00:00.264423\n",
      "./drive/MyDrive/paa/data/ordenados/o30000.txt\n",
      "first = 0:00:00.143586\n",
      "first = 0:00:00.001059\n",
      "first = 0:00:00.003380\n",
      "./drive/MyDrive/paa/data/ordenados/o500.txt\n",
      "first = 0:00:00.000065\n",
      "first = 0:00:00.000012\n",
      "first = 0:00:00.000051\n",
      "./drive/MyDrive/paa/data/ordenados/o5000.txt\n",
      "first = 0:00:00.003972\n",
      "first = 0:00:00.000155\n",
      "first = 0:00:00.000492\n",
      "./drive/MyDrive/paa/data/ordenados/o50000.txt\n",
      "first = 0:00:00.407209\n",
      "first = 0:00:00.002278\n",
      "first = 0:00:00.006883\n",
      "./drive/MyDrive/paa/data/ordenados/o75000.txt\n",
      "first = 0:00:00.905845\n",
      "first = 0:00:00.003548\n",
      "first = 0:00:00.008978\n",
      "./drive/MyDrive/paa/data/ordenados/o2000.txt\n",
      "first = 0:00:00.000726\n",
      "first = 0:00:00.000057\n",
      "first = 0:00:00.000206\n",
      "./drive/MyDrive/paa/data/ordenados/o200.txt\n",
      "first = 0:00:00.000014\n",
      "first = 0:00:00.000007\n",
      "first = 0:00:00.000026\n",
      "./drive/MyDrive/paa/data/ordenados/o7500.txt\n",
      "first = 0:00:00.008887\n",
      "first = 0:00:00.000249\n",
      "first = 0:00:00.000784\n",
      "./drive/MyDrive/paa/data/ordenados/o10000.txt\n",
      "first = 0:00:00.017646\n",
      "first = 0:00:00.000450\n",
      "first = 0:00:00.001033\n",
      "./drive/MyDrive/paa/data/ordenados/o100000.txt\n"
     ]
    }
   ],
   "source": [
    "results = []\n",
    "for case in to_sort:\n",
    "    name = case[\"name\"]\n",
    "    val = case[\"value\"]\n",
    "    print(name)\n",
    "    tempo_first = quicksort(pivot.FIRST).sort(val)\n",
    "    print(f\"first = {tempo_first}\")\n",
    "    tempo_middle = quicksort(pivot.MIDDLE).sort(val)\n",
    "    print(f\"first = {tempo_middle}\")\n",
    "    tempo_median = quicksort(pivot.MEDIAN_OF_THREE).sort(val)\n",
    "    print(f\"first = {tempo_median}\")\n",
    "    \n",
    "    result = {\"name\": name, \"tempo_first\": tempo_first, \"tempo_middle\": tempo_middle, \"tempo_median\": tempo_median}\n",
    "    results += result\n",
    "\n",
    "results"
   ]
  }
 ],
 "metadata": {
  "colab": {
   "include_colab_link": true,
   "name": "Snippets: Importing libraries",
   "provenance": []
  },
  "kernelspec": {
   "display_name": "Python 3 (ipykernel)",
   "language": "python",
   "name": "python3"
  }
 },
 "nbformat": 4,
 "nbformat_minor": 1
}
